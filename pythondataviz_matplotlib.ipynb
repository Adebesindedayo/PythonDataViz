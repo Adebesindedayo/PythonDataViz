{
 "cells": [
  {
   "cell_type": "markdown",
   "metadata": {},
   "source": [
    "This is our Data Visualization in Python Jupyter Notebook. We will be focusing on the matplotlib library to take our data and do some data visualizations with it. "
   ]
  },
  {
   "cell_type": "markdown",
   "metadata": {},
   "source": [
    "The first thing we need to do is import the libraries we will be using. Because we are all using the Anaconda software distribution today, Anaconda comes with a lot of functionality installed on top of the base python \n",
    "libraries. This includes the pandas and matplotlib packages"
   ]
  },
  {
   "cell_type": "code",
   "execution_count": null,
   "metadata": {},
   "outputs": [],
   "source": [
    "import pandas as pd\n",
    "import matplotlib.pyplot as plt     #I am pretty sure pyplot is the original functionality of matplotlib\n",
    "import matplotlib.ticker as ticker\n",
    "import numpy as np\n"
   ]
  },
  {
   "cell_type": "markdown",
   "metadata": {},
   "source": [
    "First we need to read in some data, so we can then work with it. This is a CSV sheet of career stats for professional baseball player, Mike Trout. Baseball is a numbers game so this gives us a nice, easy to use dataset to work use."
   ]
  },
  {
   "cell_type": "code",
   "execution_count": null,
   "metadata": {},
   "outputs": [],
   "source": [
    "df = pd.read_csv(\"MikeTroutData.csv\")"
   ]
  },
  {
   "cell_type": "markdown",
   "metadata": {},
   "source": [
    "## Pandas Dataframes ##\n",
    "\n",
    "First, let's take a look at the data set to see that it read correctly. We have read the data into a [pandas dataframe](https://pandas.pydata.org/pandas-docs/stable/getting_started/dsintro.html#dataframe). A pandas dataframe is a 2-dimensional labeled data structure with columns. You can think of it like a spreadsheet. It is the most commonly used pandas object. Along with the data, you can pass index (row labels) or columns as arguments. This is not to be confused with a pandas series object, which is a 1-Dimensional array of data."
   ]
  },
  {
   "cell_type": "code",
   "execution_count": null,
   "metadata": {},
   "outputs": [],
   "source": [
    "print(df)"
   ]
  },
  {
   "cell_type": "markdown",
   "metadata": {},
   "source": [
    "Now let's take a look to see how we can access the column headers in this dataframe. You can access them all, or you can access individual columns with the same syntax as a python dictionary, using key-value pairs."
   ]
  },
  {
   "cell_type": "code",
   "execution_count": null,
   "metadata": {},
   "outputs": [],
   "source": [
    "print(df.keys())\n",
    "print()\n",
    "print(df['Year'])"
   ]
  },
  {
   "cell_type": "markdown",
   "metadata": {},
   "source": [
    "I am renaming some of the columns we will be using, just for the sake of simplicity. It is easier to refer to these variable names than the entire syntax of each column."
   ]
  },
  {
   "cell_type": "code",
   "execution_count": null,
   "metadata": {},
   "outputs": [],
   "source": [
    "year = df['Year']\n",
    "hits = df['H']\n",
    "at_bats = df['AB']\n",
    "home_runs = df['HR']\n",
    "salary = df['Salary']"
   ]
  },
  {
   "cell_type": "markdown",
   "metadata": {},
   "source": [
    "## Matplotlib Plots ##\n",
    "\n",
    "Now we will begin plotting in [matplotlib](https://matplotlib.org/). Because we have our data stored in a pandas dataframe. We can now analyze it how we like. I'll be working with some of the basic plot types. This will barely scratch the surface. I will also be adding some customization and formatting to show you that you can basically customize your plots to look however you like.\n"
   ]
  },
  {
   "cell_type": "markdown",
   "metadata": {},
   "source": [
    "## Bar Plots\n",
    "\n",
    "This is a very simple plot of Mike Trout's hits per year. Let's start from the bottom"
   ]
  },
  {
   "cell_type": "code",
   "execution_count": null,
   "metadata": {},
   "outputs": [],
   "source": [
    "plt.bar(year, hits)\n",
    "plt.show()"
   ]
  },
  {
   "cell_type": "markdown",
   "metadata": {},
   "source": [
    "So as you see, I've got # of Hits on the Y Axis, and Year on the X Axis. But what are the year and hits objects?"
   ]
  },
  {
   "cell_type": "code",
   "execution_count": null,
   "metadata": {},
   "outputs": [],
   "source": [
    "print(type(year))\n",
    "print(type(hits))"
   ]
  },
  {
   "cell_type": "markdown",
   "metadata": {},
   "source": [
    "As you see, these are pandas Series objects. Again, a series is a 1-Dimensional array of data. I'll be transforming my pandas dataframe to extract different series of objects, so I can plot them using matplotlib.\n",
    "\n",
    "Our first plot was as basic as it gets. Let's add some labels to make it look a little better."
   ]
  },
  {
   "cell_type": "code",
   "execution_count": null,
   "metadata": {},
   "outputs": [],
   "source": [
    "plt.xlabel('Year')\n",
    "plt.ylabel('# of Hits')\n",
    "plt.suptitle('Mike Trout Hits per year')\n",
    "plt.bar(year, hits)\n",
    "plt.show()"
   ]
  },
  {
   "cell_type": "markdown",
   "metadata": {},
   "source": [
    "## Horizontal Bar Plots\n",
    "\n",
    "Let's turn our bar plot sideways"
   ]
  },
  {
   "cell_type": "code",
   "execution_count": null,
   "metadata": {},
   "outputs": [],
   "source": [
    "\n",
    "plt.xlabel('# of Hits')\n",
    "plt.ylabel('Year')\n",
    "plt.suptitle('Mike Trout Hits per year')\n",
    "plt.barh(year, hits, color='red')       #notice I changed the color argument. Blue is the default color\n",
    "plt.show()"
   ]
  },
  {
   "cell_type": "markdown",
   "metadata": {},
   "source": [
    "## Line Plot\n",
    "\n",
    "We can also do simple line plots. Here is hits per year as a line plot."
   ]
  },
  {
   "cell_type": "code",
   "execution_count": null,
   "metadata": {},
   "outputs": [],
   "source": [
    "plt.xlabel('Year')\n",
    "plt.ylabel('# of Hits')\n",
    "plt.grid()\n",
    "plt.plot(year, hits)\n",
    "plt.show()"
   ]
  },
  {
   "cell_type": "markdown",
   "metadata": {},
   "source": [
    "## Combined plots\n",
    "\n",
    "You can also put them together. \n",
    "In this plot, I have the # of hits plotted in blue as a bar chart, and number of At Bats in red as a line graph. \n",
    "\n",
    "But notice, our old labels don't work anymore!"
   ]
  },
  {
   "cell_type": "code",
   "execution_count": null,
   "metadata": {
    "scrolled": true
   },
   "outputs": [],
   "source": [
    "plt.xlabel('Year')\n",
    "plt.ylabel('# of Hits')\n",
    "plt.plot(year, at_bats, color='red')\n",
    "plt.bar(year, hits)\n",
    "plt.show()"
   ]
  },
  {
   "cell_type": "markdown",
   "metadata": {},
   "source": [
    "## Legends\n",
    "\n",
    "A legend is probably the right thing to bring more clarity to our plot"
   ]
  },
  {
   "cell_type": "code",
   "execution_count": null,
   "metadata": {},
   "outputs": [],
   "source": [
    "plt.xlabel('Year')\n",
    "plt.suptitle('Mike Trout - At Bats and Hits per Year')\n",
    "plt.plot(year, at_bats, color='red', label='At Bats')\n",
    "plt.bar(year, hits, label='Hits')\n",
    "plt.legend()         #makes the legend happen!\n",
    "plt.show()"
   ]
  },
  {
   "cell_type": "markdown",
   "metadata": {},
   "source": [
    "## Stacked Bar Chart\n",
    "\n",
    "We can stack bar charts on top of eachother\n",
    "\n",
    "In this chart, I am literally stacking home runs on top of hits. But you can get a visual picture on the ratio of home runs to overall hits"
   ]
  },
  {
   "cell_type": "code",
   "execution_count": null,
   "metadata": {},
   "outputs": [],
   "source": [
    "plt.xlabel('Year')\n",
    "plt.suptitle('Mike Trout - Home Runs vs Total Hits')\n",
    "\n",
    "\n",
    "plt.bar(year, hits, label='Hits')\n",
    "plt.bar(year, home_runs, label='Home Runs')\n",
    "\n",
    "plt.legend()\n",
    "plt.show()"
   ]
  },
  {
   "cell_type": "markdown",
   "metadata": {},
   "source": [
    "## Grouped Bar Chart\n",
    "\n",
    "In order to have my bar charts side by side, I need to move one of them to the side, and also make the bars skinnier so that everything fits"
   ]
  },
  {
   "cell_type": "code",
   "execution_count": null,
   "metadata": {},
   "outputs": [],
   "source": [
    "plt.xlabel('Year')\n",
    "plt.suptitle('Mike Trout - Home Runs vs Total Hits')\n",
    "\n",
    "plt.xticks(rotation=45)         #rotates labels by 45 degrees\n",
    "plt.xticks(year)                #shows all years in label\n",
    "\n",
    "plt.bar(year, hits, width=.2, label='Hits')\n",
    "plt.bar(year+.2, home_runs, width=.2, label='Home Runs')        #moved the bars around manually\n",
    "plt.legend()\n",
    "plt.show()"
   ]
  },
  {
   "cell_type": "markdown",
   "metadata": {},
   "source": [
    "## Labels\n",
    "\n",
    "I can add labels on my figures to show exact values"
   ]
  },
  {
   "cell_type": "code",
   "execution_count": null,
   "metadata": {},
   "outputs": [],
   "source": [
    "plt.xlabel('Year')\n",
    "plt.xticks(rotation=45)\n",
    "plt.xticks(year)                #shows all years in label\n",
    "\n",
    "plt.ylabel('# of Hits')           \n",
    "plt.suptitle('Mike Trout Hits per year')\n",
    "\n",
    "for bar in plt.bar(year, hits):        \n",
    "    plt.text(bar.get_x() + .4,              #x position of label\n",
    "             bar.get_height() - 20,           #y position of label\n",
    "             bar.get_height(),              #actual value of label\n",
    "             ha='center',\n",
    "             va='bottom')"
   ]
  },
  {
   "cell_type": "markdown",
   "metadata": {},
   "source": [
    "## Math with Dataframes\n",
    "\n",
    "Rembember, you can do math with your dataframe objects!"
   ]
  },
  {
   "cell_type": "code",
   "execution_count": null,
   "metadata": {},
   "outputs": [],
   "source": [
    "cost_per_home_run = salary/home_runs\n",
    "\n",
    "print(type(cost_per_home_run))\n",
    "print(cost_per_home_run)"
   ]
  },
  {
   "cell_type": "code",
   "execution_count": null,
   "metadata": {},
   "outputs": [],
   "source": [
    "fig, ax = plt.subplots()\n",
    "\n",
    "plt.xlabel('Year')\n",
    "plt.xticks(rotation=45)\n",
    "plt.xticks(year)\n",
    "\n",
    "formatter = ticker.FormatStrFormatter('$%.0f')     #formatting y axis as dollar amounts\n",
    "ax.yaxis.set_major_formatter(formatter)\n",
    "\n",
    "plt.ylabel('Price')           \n",
    "plt.suptitle('Mike Trout Yearly Cost Per Home Run')\n",
    "plt.bar(year, cost_per_home_run)\n",
    "plt.show()"
   ]
  },
  {
   "cell_type": "markdown",
   "metadata": {},
   "source": [
    "## Scatter Plot\n",
    "\n",
    "Now I'll give you some other examples of random plots, just to give you more ideas of what is possible"
   ]
  },
  {
   "cell_type": "code",
   "execution_count": null,
   "metadata": {},
   "outputs": [],
   "source": [
    "N = 50\n",
    "x = np.random.rand(N)\n",
    "y = np.random.rand(N)\n",
    "print(x)\n",
    "area = np.pi*3\n",
    "print(area)"
   ]
  },
  {
   "cell_type": "code",
   "execution_count": null,
   "metadata": {},
   "outputs": [],
   "source": [
    "plt.scatter(x, y, s=area, alpha=0.5)\n",
    "plt.title('Scatter plot pythonspot')"
   ]
  },
  {
   "cell_type": "code",
   "execution_count": null,
   "metadata": {},
   "outputs": [],
   "source": []
  }
 ],
 "metadata": {
  "kernelspec": {
   "display_name": "Python 3",
   "language": "python",
   "name": "python3"
  },
  "language_info": {
   "codemirror_mode": {
    "name": "ipython",
    "version": 3
   },
   "file_extension": ".py",
   "mimetype": "text/x-python",
   "name": "python",
   "nbconvert_exporter": "python",
   "pygments_lexer": "ipython3",
   "version": "3.7.3"
  }
 },
 "nbformat": 4,
 "nbformat_minor": 4
}
